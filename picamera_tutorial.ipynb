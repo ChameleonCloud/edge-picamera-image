{
 "cells": [
  {
   "cell_type": "markdown",
   "id": "c2a5282d-f117-4ac9-acc8-f095d7042ba1",
   "metadata": {},
   "source": [
    "# Peripheral showcase: Pi Camera Module 3 in CHI@Edge\n",
    "\n",
    "Welcome to this Jupyter notebook guide on using the Camera on Raspberry Pis in CHI@Edge. This artifact will walk you through the steps to access and utilize the camera for your edge computing experiments.\n",
    "\n",
    "**Important Note:** This notebook will work with any camera module, but only for devices that are set up to use the \"libcamera\" drivers. As of July 2025, all devices in CHI@Edge are configured this way.\n",
    "\n",
    "In the following example we'll show how to use the Pi Camera Module 3 on a Raspberry Pi 4 to capture both a png image and an h264 30 fps video. "
   ]
  },
  {
   "cell_type": "code",
   "execution_count": null,
   "id": "ad4bcf2d-b458-4436-95ab-4cd99e6321f0",
   "metadata": {},
   "outputs": [],
   "source": [
    "from chi import context\n",
    "\n",
    "context.choose_site(default=\"CHI@Edge\")\n",
    "context.choose_project()"
   ]
  },
  {
   "cell_type": "markdown",
   "id": "07e8cdcc-c8ce-46e3-b1b6-c6080a5b407a",
   "metadata": {},
   "source": [
    "## Creating the Lease\n",
    "\n",
    "To access the camera, we need to make a lease for the specific device that the camera is currently attached to. As of July 2025, we're still implementing the autodetection of this, but the below devices will have it attached."
   ]
  },
  {
   "cell_type": "code",
   "execution_count": null,
   "id": "5d19779e-e688-45e0-90f0-8b336411ec4a",
   "metadata": {},
   "outputs": [],
   "source": [
    "from chi import hardware\n",
    "\n",
    "device_type = \"raspberrypi4-64\"\n",
    "available_devices = hardware.get_devices(filter_reserved=True, device_type=device_type)\n",
    "\n",
    "picamera_devs = [d for d in available_devices if d.device_name.startswith(\"iot-rpi4-picam\")]\n",
    "display([d.device_name for d in picamera_devs])"
   ]
  },
  {
   "cell_type": "markdown",
   "id": "fa8de1e0",
   "metadata": {},
   "source": [
    "And then make a lease for one of them."
   ]
  },
  {
   "cell_type": "code",
   "execution_count": null,
   "id": "3adb24c1",
   "metadata": {},
   "outputs": [],
   "source": [
    "from chi import lease\n",
    "from datetime import timedelta\n",
    "\n",
    "my_lease = lease.Lease(\"rpi4-camera-lease\", duration=timedelta(hours=3))\n",
    "\n",
    "my_lease.add_device_reservation(picamera_devs[0])\n",
    "# my_lease.add_device_reservation(device_name='iot-rpi4-picam2',amount=1) # or a specific one!\n",
    "my_lease.submit(idempotent=True)"
   ]
  },
  {
   "cell_type": "markdown",
   "id": "7da6af80-1099-4457-82d0-7acbe3728cec",
   "metadata": {},
   "source": [
    "## Launching a container with libcamera and the rpicam apps\n",
    "\n",
    "To take pictures and videos with the camera, we need to launch a container image with all the following pre-requisites:\n",
    "\n",
    "- pi_libcamera device profile: a flag to expose all the necessary /dev devices required for the camera support\n",
    "- libcamera: A complex camera stack designed to support all kinds of cameras on Linux.\n",
    "- rpicam-apps: A set of example applications demonstrating how to use libcamera on Raspberry Pi.\n",
    "\n",
    "We provide a prebuilt container image with these dependencies: ```ghcr.io/chameleoncloud/edge-picamera-image:latest```. For reprodcibility and customization, the Dockerfile for the image can be found in the same repo as this notebook.\n",
    "\n",
    "Below, we will launch a long-running container doing more or less \"nothing\" so that it stays running, and then execute commands interactively."
   ]
  },
  {
   "cell_type": "code",
   "execution_count": null,
   "id": "77feeef9-9f69-440e-a1b9-d392d9b5db33",
   "metadata": {},
   "outputs": [],
   "source": [
    "from chi import container\n",
    "\n",
    "my_container = container.Container(\n",
    "    \"rpi4-camera-test-01\",\n",
    "    image_ref=\"shermanm/picamera:latest\",\n",
    "    exposed_ports=[],\n",
    "    reservation_id=my_lease.device_reservations[0][\"id\"],\n",
    "    command=[\"sleep\", \"3600\"],\n",
    "    device_profiles=[\"pi_libcamera\"],\n",
    ")\n",
    "my_container.submit()"
   ]
  },
  {
   "cell_type": "markdown",
   "id": "4ceda18d",
   "metadata": {},
   "source": [
    "## Verifying that the camera and drivers work\n",
    "\n",
    "First, lets run a simple command to see if libcamera finds our camera. If the container started with the pi_libcamera device profile, this *should* work, but there are always some edge cases.\n",
    "This will also help identify the capabilities of the attached camera.\n",
    "\n",
    "Note: We specify `--nopreview` since there's no display attached to the device."
   ]
  },
  {
   "cell_type": "code",
   "execution_count": null,
   "id": "28aba244",
   "metadata": {},
   "outputs": [],
   "source": [
    "cmd = \"rpicam-hello --nopreview --list-cameras\"\n",
    "result,code = my_container.execute(cmd)\n",
    "print(result)"
   ]
  },
  {
   "cell_type": "markdown",
   "id": "4d4a1ea4-cf3b-4276-978a-d7a735aed200",
   "metadata": {},
   "source": [
    "## Capturing a still 1920x1080 picture with the camera\n",
    "\n",
    "To capture pictures, we use the rpicam applications ([code](https://github.com/raspberrypi/rpicam-apps)). We use ```rpicam-still```[(docs)](https://www.raspberrypi.com/documentation/computers/camera_software.html#rpicam-still) to capture a 1920x1080 still png using the camera. Please visit the rpicam-apps [documentation](https://www.raspberrypi.com/documentation/computers/camera_software.html#rpicam-apps) to learn how to use other utilities.\n",
    "\n",
    "**Important notes**: \n",
    "\n",
    "- Capturing frames can take some time. It is not instant.\n",
    "- If you run into dma_heap allocation issues/failure to allocate capture buffers, please lower the quality/size of your image or use the png format. The error occurs because the device to which the camera is attached currently only allocates a very limited amount of 64MB of contiguous memory blocks (cma). Each still capture requires a cma buffer amount that is proportional to the size of the target picture. Development efforts are currently ongoing to allow the allocation of more CMA on boot time to allow for larger frames."
   ]
  },
  {
   "cell_type": "code",
   "execution_count": null,
   "id": "28caaf2e-afc2-497a-b1f4-795c6a84b2c7",
   "metadata": {},
   "outputs": [],
   "source": [
    "cmd = \"rpicam-still  --nopreview  --output /app/test1.png --width 1920 --height 1080\"\n",
    "result,code = my_container.execute(cmd)\n",
    "print(result)"
   ]
  },
  {
   "cell_type": "markdown",
   "id": "331abaf4-66d2-4824-ab20-3234d6d8a9e7",
   "metadata": {},
   "source": [
    "Download the captured image from the running container using our ```container.download()``` utility. (**Note**: it takes a slight moment for the jupyter directory navigation pane to refresh and show the downloaded file)"
   ]
  },
  {
   "cell_type": "code",
   "execution_count": null,
   "id": "f446130b-ab84-4542-9759-6495c6d1e40d",
   "metadata": {},
   "outputs": [],
   "source": [
    "my_container.download(\"/app/test1.png\", \".\")"
   ]
  },
  {
   "cell_type": "markdown",
   "id": "f8e7b1f1",
   "metadata": {},
   "source": [
    "## Using the picamera2 library instead of cli\n",
    "\n",
    "Now, insted of running the command interactively, we'll instead use the picamera2 library to do the same task. \n",
    "\n",
    "The snippet below will copy a script into the container, execute it, then copy the captured image image back."
   ]
  },
  {
   "cell_type": "code",
   "execution_count": null,
   "id": "cad98b7f",
   "metadata": {},
   "outputs": [],
   "source": [
    "# Need to get the path for the python script in jupyter\n",
    "import os\n",
    "cwd = os.getcwd()\n",
    "my_container.upload(f\"{cwd}/camera_test.py\", \"/app/\")\n",
    "\n",
    "# execute it\n",
    "result,code = my_container.execute(\"python3 camera_test.py\")\n",
    "print(result)\n",
    "\n",
    "# copy the output image back\n",
    "my_container.download(\"/app/test2.jpg\", \".\")"
   ]
  },
  {
   "cell_type": "markdown",
   "id": "c0786f1e-f5cf-43d6-bb23-120c910974eb",
   "metadata": {},
   "source": [
    "## Capturing a 5 second 1080p 60fps H264 video with the camera\n",
    "\n",
    "To capture an h264 video we use the ```rpicam-vid```[(docs)](https://www.raspberrypi.com/documentation/computers/camera_software.html#rpicam-vid) utility to capture a 5 second 1080p video at a framerate of 60 fps. To playback the video, please download the file through the jupyter interface and use a video playback utility such as ```vlc```.\n",
    "\n",
    "**Note**: the ```container.download()``` utility is primarily meant for smaller size files. Please resort to other methods such as cloud storage or scp to download larger files."
   ]
  },
  {
   "cell_type": "code",
   "execution_count": null,
   "id": "bb9c1495-734d-4023-9147-61a65b83b148",
   "metadata": {},
   "outputs": [],
   "source": [
    "cmd = \"rpicam-vid --nopreview  --output /app/video1.h264 --width 1920 --height 1080 --framerate 60\"\n",
    "result,code = my_container.execute(cmd)\n",
    "print(result)\n",
    "\n",
    "my_container.download(\"/app/video1.h264\", \".\")"
   ]
  }
 ],
 "metadata": {
  "kernelspec": {
   "display_name": "Python 3 (ipykernel)",
   "language": "python",
   "name": "python3"
  },
  "language_info": {
   "codemirror_mode": {
    "name": "ipython",
    "version": 3
   },
   "file_extension": ".py",
   "mimetype": "text/x-python",
   "name": "python",
   "nbconvert_exporter": "python",
   "pygments_lexer": "ipython3",
   "version": "3.10.9"
  }
 },
 "nbformat": 4,
 "nbformat_minor": 5
}
